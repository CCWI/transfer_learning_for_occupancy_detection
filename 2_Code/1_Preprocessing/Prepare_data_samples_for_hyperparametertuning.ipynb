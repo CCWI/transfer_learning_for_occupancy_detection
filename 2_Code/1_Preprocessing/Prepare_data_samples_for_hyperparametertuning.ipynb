{
 "cells": [
  {
   "cell_type": "code",
   "execution_count": 1,
   "id": "11479869",
   "metadata": {},
   "outputs": [],
   "source": [
    "import os\n",
    "import random\n",
    "import pandas as pd\n",
    "import numpy as np\n",
    "import pickle\n",
    "import h5py\n",
    "from csv import writer\n",
    "import matplotlib.pyplot as plt\n",
    "\n",
    "import sys\n",
    "sys.path.insert(0, '../B_Model_Training')\n",
    "from utils.DataPreparation_v2 import walk_forward, prepare_data"
   ]
  },
  {
   "cell_type": "markdown",
   "id": "5147b6e8",
   "metadata": {},
   "source": [
    "### Load Data"
   ]
  },
  {
   "cell_type": "code",
   "execution_count": 2,
   "id": "389380a7",
   "metadata": {},
   "outputs": [
    {
     "name": "stdout",
     "output_type": "stream",
     "text": [
      "['Candanedo', 'Home', 'Office_A', 'Office_B', 'Simulated', 'Stjelja']\n"
     ]
    },
    {
     "data": {
      "text/html": [
       "<div>\n",
       "<style scoped>\n",
       "    .dataframe tbody tr th:only-of-type {\n",
       "        vertical-align: middle;\n",
       "    }\n",
       "\n",
       "    .dataframe tbody tr th {\n",
       "        vertical-align: top;\n",
       "    }\n",
       "\n",
       "    .dataframe thead th {\n",
       "        text-align: right;\n",
       "    }\n",
       "</style>\n",
       "<table border=\"1\" class=\"dataframe\">\n",
       "  <thead>\n",
       "    <tr style=\"text-align: right;\">\n",
       "      <th></th>\n",
       "      <th>Day</th>\n",
       "      <th>Time</th>\n",
       "      <th>CO2</th>\n",
       "      <th>Temperature</th>\n",
       "      <th>Humidity</th>\n",
       "      <th>Occupancy</th>\n",
       "    </tr>\n",
       "  </thead>\n",
       "  <tbody>\n",
       "    <tr>\n",
       "      <th>0</th>\n",
       "      <td>0</td>\n",
       "      <td>00:00:00</td>\n",
       "      <td>739.73</td>\n",
       "      <td>26.30</td>\n",
       "      <td>29.73</td>\n",
       "      <td>0</td>\n",
       "    </tr>\n",
       "    <tr>\n",
       "      <th>1</th>\n",
       "      <td>0</td>\n",
       "      <td>00:01:00</td>\n",
       "      <td>740.08</td>\n",
       "      <td>26.31</td>\n",
       "      <td>29.74</td>\n",
       "      <td>0</td>\n",
       "    </tr>\n",
       "  </tbody>\n",
       "</table>\n",
       "</div>"
      ],
      "text/plain": [
       "   Day      Time     CO2  Temperature  Humidity  Occupancy\n",
       "0    0  00:00:00  739.73        26.30     29.73          0\n",
       "1    0  00:01:00  740.08        26.31     29.74          0"
      ]
     },
     "execution_count": 2,
     "metadata": {},
     "output_type": "execute_result"
    }
   ],
   "source": [
    "hdf5_file_path = \"../../1_Data/datasets.h5\"\n",
    "h5 = h5py.File(hdf5_file_path, 'r')\n",
    "print(list(h5.keys()))\n",
    "dataset = pd.read_hdf(hdf5_file_path, 'Office_A')\n",
    "dataset.head(2)\n",
    "# Note that the Stjelja dataset was not published along with this script and needs to be removed to run it."
   ]
  },
  {
   "cell_type": "markdown",
   "id": "e4f2b3f3",
   "metadata": {},
   "source": [
    "### Prepare training and validation data"
   ]
  },
  {
   "cell_type": "code",
   "execution_count": null,
   "id": "3f31b9f8",
   "metadata": {},
   "outputs": [],
   "source": [
    "used_datasets = ['Candanedo', 'Office_A', 'Office_B', 'Home', 'Stjelja']\n",
    "n_days = 8\n",
    "\n",
    "data_samples = {\n",
    "    15: dict.fromkeys(used_datasets), 30: dict.fromkeys(used_datasets), \n",
    "    60: dict.fromkeys(used_datasets), 'raw': dict.fromkeys(used_datasets)\n",
    "}\n",
    "for s in data_samples.keys():\n",
    "    for u in used_datasets:\n",
    "        data_samples[s][u] = []\n",
    "\n",
    "print(\"selecting samples...\")\n",
    "\n",
    "for dataset_name in used_datasets:\n",
    "    dataset = pd.read_hdf(hdf5_file_path, dataset_name)\n",
    "    print(dataset_name)\n",
    "    for i in range(0, int(len(dataset)/1440*0.8)-n_days+1): # select among the first 80% of data\n",
    "        print(i, \"{}:{}\".format(i*1440, (i+n_days)*1440))\n",
    "        data_samples['raw'][dataset_name].append(dataset[i*1440:(i+n_days)*1440])\n",
    "\n",
    "print(\"preparing time windows...\")\n",
    "\n",
    "for dataset_name in used_datasets:\n",
    "    for i in range(0, len(data_samples['raw'][dataset_name])):\n",
    "        for window_size in [15, 30, 60]:\n",
    "            # divide 8 days into 5 days for training and 3 days for validation\n",
    "            x_train, y_train, x_val, y_val = prepare_data(x=data_samples['raw'][dataset_name][i]['CO2'].values, \n",
    "                                                          y=data_samples['raw'][dataset_name][i]['Occupancy'].values,\n",
    "                                                          window_size=window_size, \n",
    "                                                          max_batch_size=128,\n",
    "                                                          splitAt=0.625)\n",
    "        \n",
    "            data_samples[window_size][dataset_name].append((x_train, y_train, x_val, y_val))"
   ]
  },
  {
   "cell_type": "markdown",
   "id": "03960995",
   "metadata": {},
   "source": [
    "### Save"
   ]
  },
  {
   "cell_type": "code",
   "execution_count": 4,
   "id": "6df73d87",
   "metadata": {},
   "outputs": [],
   "source": [
    "# Save to pickle file\n",
    "path = '../../1_Data/'\n",
    "\n",
    "with open(path + 'data_samples_for_hyperparametertuning.pkl', 'wb') as file:\n",
    "    pickle.dump(data_samples, file)"
   ]
  },
  {
   "cell_type": "code",
   "execution_count": 5,
   "id": "62f1ad2d",
   "metadata": {},
   "outputs": [],
   "source": [
    "# Load from pickle file\n",
    "\n",
    "with open(path + 'data_samples_for_hyperparametertuning.pkl', 'rb') as file:\n",
    "    data_samples = pickle.load(file)"
   ]
  },
  {
   "cell_type": "code",
   "execution_count": 6,
   "id": "f11b387d",
   "metadata": {},
   "outputs": [
    {
     "data": {
      "text/plain": [
       "dict_keys([15, 30, 60, 'raw'])"
      ]
     },
     "execution_count": 6,
     "metadata": {},
     "output_type": "execute_result"
    }
   ],
   "source": [
    "data_samples.keys()"
   ]
  },
  {
   "cell_type": "code",
   "execution_count": 7,
   "id": "478306f0",
   "metadata": {},
   "outputs": [
    {
     "data": {
      "text/plain": [
       "dict_keys(['Candanedo', 'Office_A', 'Office_B', 'Home', 'Stjelja'])"
      ]
     },
     "execution_count": 7,
     "metadata": {},
     "output_type": "execute_result"
    }
   ],
   "source": [
    "data_samples[15].keys()"
   ]
  }
 ],
 "metadata": {
  "kernelspec": {
   "display_name": "Python 3",
   "language": "python",
   "name": "python3"
  },
  "language_info": {
   "codemirror_mode": {
    "name": "ipython",
    "version": 3
   },
   "file_extension": ".py",
   "mimetype": "text/x-python",
   "name": "python",
   "nbconvert_exporter": "python",
   "pygments_lexer": "ipython3",
   "version": "3.7.7"
  }
 },
 "nbformat": 4,
 "nbformat_minor": 5
}
