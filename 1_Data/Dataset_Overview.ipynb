{
 "cells": [
  {
   "cell_type": "code",
   "execution_count": 1,
   "id": "998bf129",
   "metadata": {},
   "outputs": [],
   "source": [
    "import os\n",
    "import pandas as pd\n",
    "import numpy as np"
   ]
  },
  {
   "cell_type": "markdown",
   "id": "8b4921c1",
   "metadata": {},
   "source": [
    "## Read Data"
   ]
  },
  {
   "cell_type": "code",
   "execution_count": 2,
   "id": "1a41c722",
   "metadata": {},
   "outputs": [],
   "source": [
    "hdf5_file = 'datasets.h5'\n",
    "\n",
    "datasets = {}\n",
    "dataset_names = ['Office_A', 'Office_B', 'Home', 'Candanedo', 'Stjelja', 'Simulated']\n",
    "# Note that the Stjelja dataset was not published along with this script and needs to be removed to run it.\n",
    "\n",
    "for name in dataset_names:\n",
    "    datasets[name] = pd.read_hdf(hdf5_file, name)"
   ]
  },
  {
   "cell_type": "code",
   "execution_count": 3,
   "id": "444099ea",
   "metadata": {},
   "outputs": [
    {
     "data": {
      "text/html": [
       "<div>\n",
       "<style scoped>\n",
       "    .dataframe tbody tr th:only-of-type {\n",
       "        vertical-align: middle;\n",
       "    }\n",
       "\n",
       "    .dataframe tbody tr th {\n",
       "        vertical-align: top;\n",
       "    }\n",
       "\n",
       "    .dataframe thead th {\n",
       "        text-align: right;\n",
       "    }\n",
       "</style>\n",
       "<table border=\"1\" class=\"dataframe\">\n",
       "  <thead>\n",
       "    <tr style=\"text-align: right;\">\n",
       "      <th></th>\n",
       "      <th>Day</th>\n",
       "      <th>Time</th>\n",
       "      <th>CO2</th>\n",
       "      <th>Temperature</th>\n",
       "      <th>Humidity</th>\n",
       "      <th>Occupancy</th>\n",
       "    </tr>\n",
       "  </thead>\n",
       "  <tbody>\n",
       "    <tr>\n",
       "      <th>0</th>\n",
       "      <td>0</td>\n",
       "      <td>00:00:00</td>\n",
       "      <td>739.73</td>\n",
       "      <td>26.3</td>\n",
       "      <td>29.73</td>\n",
       "      <td>0</td>\n",
       "    </tr>\n",
       "  </tbody>\n",
       "</table>\n",
       "</div>"
      ],
      "text/plain": [
       "   Day      Time     CO2  Temperature  Humidity  Occupancy\n",
       "0    0  00:00:00  739.73         26.3     29.73          0"
      ]
     },
     "execution_count": 3,
     "metadata": {},
     "output_type": "execute_result"
    }
   ],
   "source": [
    "datasets['Office_A'].head(1)"
   ]
  },
  {
   "cell_type": "markdown",
   "id": "0f515882",
   "metadata": {},
   "source": [
    "## Days"
   ]
  },
  {
   "cell_type": "code",
   "execution_count": 4,
   "id": "dd4d193f",
   "metadata": {},
   "outputs": [
    {
     "name": "stdout",
     "output_type": "stream",
     "text": [
      "Office_A: 80\n",
      "Office_B: 20\n",
      "Home: 50\n",
      "Candanedo: 8\n",
      "Stjelja: 26\n",
      "Simulated: 100\n"
     ]
    }
   ],
   "source": [
    "for name in dataset_names:\n",
    "    print(name + \":\", len(datasets[name]['Day'].unique()))"
   ]
  },
  {
   "cell_type": "markdown",
   "id": "2b58bd96",
   "metadata": {},
   "source": [
    "## Presence Rate"
   ]
  },
  {
   "cell_type": "code",
   "execution_count": 5,
   "id": "c6fa2331",
   "metadata": {},
   "outputs": [
    {
     "data": {
      "text/html": [
       "<div>\n",
       "<style scoped>\n",
       "    .dataframe tbody tr th:only-of-type {\n",
       "        vertical-align: middle;\n",
       "    }\n",
       "\n",
       "    .dataframe tbody tr th {\n",
       "        vertical-align: top;\n",
       "    }\n",
       "\n",
       "    .dataframe thead th {\n",
       "        text-align: right;\n",
       "    }\n",
       "</style>\n",
       "<table border=\"1\" class=\"dataframe\">\n",
       "  <thead>\n",
       "    <tr style=\"text-align: right;\">\n",
       "      <th></th>\n",
       "      <th>Office_A</th>\n",
       "      <th>Office_B</th>\n",
       "      <th>Home</th>\n",
       "      <th>Candanedo</th>\n",
       "      <th>Stjelja</th>\n",
       "      <th>Simulated</th>\n",
       "    </tr>\n",
       "  </thead>\n",
       "  <tbody>\n",
       "    <tr>\n",
       "      <th>mean</th>\n",
       "      <td>0.323976</td>\n",
       "      <td>0.259514</td>\n",
       "      <td>0.753125</td>\n",
       "      <td>0.354514</td>\n",
       "      <td>0.113922</td>\n",
       "      <td>0.262622</td>\n",
       "    </tr>\n",
       "    <tr>\n",
       "      <th>std</th>\n",
       "      <td>0.467993</td>\n",
       "      <td>0.438376</td>\n",
       "      <td>0.431196</td>\n",
       "      <td>0.478387</td>\n",
       "      <td>0.317720</td>\n",
       "      <td>0.440060</td>\n",
       "    </tr>\n",
       "  </tbody>\n",
       "</table>\n",
       "</div>"
      ],
      "text/plain": [
       "      Office_A  Office_B      Home  Candanedo   Stjelja  Simulated\n",
       "mean  0.323976  0.259514  0.753125   0.354514  0.113922   0.262622\n",
       "std   0.467993  0.438376  0.431196   0.478387  0.317720   0.440060"
      ]
     },
     "execution_count": 5,
     "metadata": {},
     "output_type": "execute_result"
    }
   ],
   "source": [
    "df = pd.DataFrame()\n",
    "for name in dataset_names:\n",
    "    df[name] = datasets[name]['Occupancy']\n",
    "occ = df.agg([np.mean, np.std])\n",
    "occ"
   ]
  },
  {
   "cell_type": "code",
   "execution_count": 6,
   "id": "d8ac6e2c",
   "metadata": {},
   "outputs": [
    {
     "data": {
      "text/plain": [
       "<AxesSubplot:>"
      ]
     },
     "execution_count": 6,
     "metadata": {},
     "output_type": "execute_result"
    },
    {
     "data": {
      "image/png": "[encoded data removed]",
      "text/plain": [
       "<Figure size 432x288 with 1 Axes>"
      ]
     },
     "metadata": {
      "needs_background": "light"
     },
     "output_type": "display_data"
    }
   ],
   "source": [
    "occ.T.plot(kind = \"barh\", y = \"mean\", legend = False, xerr = \"std\")"
   ]
  },
  {
   "cell_type": "markdown",
   "id": "fb011b13",
   "metadata": {},
   "source": [
    "## CO2 Range"
   ]
  },
  {
   "cell_type": "code",
   "execution_count": 7,
   "id": "f3e96f9e",
   "metadata": {},
   "outputs": [
    {
     "name": "stdout",
     "output_type": "stream",
     "text": [
      "Office_A: 295.63 - 2116.3\n",
      "Office_B: 513.57 - 1874.25\n",
      "Home: 372.92 - 4864.1\n",
      "Candanedo: 423.0 - 2072.0\n",
      "Stjelja: 390.59 - 865.76\n",
      "Simulated: 360.0 - 1451.65\n"
     ]
    },
    {
     "data": {
      "text/plain": [
       "<AxesSubplot:>"
      ]
     },
     "execution_count": 7,
     "metadata": {},
     "output_type": "execute_result"
    },
    {
     "data": {
      "image/png": "[encoded data removed]",
      "text/plain": [
       "<Figure size 432x288 with 1 Axes>"
      ]
     },
     "metadata": {
      "needs_background": "light"
     },
     "output_type": "display_data"
    }
   ],
   "source": [
    "df = pd.DataFrame()\n",
    "for name in dataset_names:\n",
    "    print(name + \":\",  round(datasets[name]['CO2'].min(), 2), \"-\", str(round(datasets[name]['CO2'].max(), 2)))\n",
    "    df[name] = datasets[name]['CO2']\n",
    "df.boxplot(vert=False)"
   ]
  }
 ],
 "metadata": {
  "kernelspec": {
   "display_name": "Python 3",
   "language": "python",
   "name": "python3"
  },
  "language_info": {
   "codemirror_mode": {
    "name": "ipython",
    "version": 3
   },
   "file_extension": ".py",
   "mimetype": "text/x-python",
   "name": "python",
   "nbconvert_exporter": "python",
   "pygments_lexer": "ipython3",
   "version": "3.7.7"
  }
 },
 "nbformat": 4,
 "nbformat_minor": 5
}
